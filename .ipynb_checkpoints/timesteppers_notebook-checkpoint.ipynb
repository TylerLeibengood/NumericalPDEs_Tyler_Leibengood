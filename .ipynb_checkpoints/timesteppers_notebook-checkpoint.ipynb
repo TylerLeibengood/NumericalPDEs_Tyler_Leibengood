{
 "cells": [
  {
   "cell_type": "code",
   "execution_count": 4,
   "id": "f66d5f79-bc9d-447f-8712-2cd1f16ce594",
   "metadata": {},
   "outputs": [],
   "source": [
    "import math\n",
    "import numpy as np\n",
    "import finite\n",
    "import matplotlib.pyplot as plt\n",
    "\n",
    "class Timestepper:\n",
    "\n",
    "    def __init__(self, u, f):\n",
    "        self.t = 0\n",
    "        self.iter = 0\n",
    "        self.u = u\n",
    "        self.func = f\n",
    "        self.dt = None\n",
    "\n",
    "    def step(self, dt):\n",
    "        self.u = self._step(dt)\n",
    "        self.t += dt\n",
    "        self.iter += 1\n",
    "        \n",
    "    def evolve(self, dt, time):\n",
    "        while self.t < time - 1e-8:\n",
    "            self.step(dt)\n",
    "\n",
    "\n",
    "class ForwardEuler(Timestepper):\n",
    "\n",
    "    def _step(self, dt):\n",
    "        return self.u + dt*self.func(self.u)\n",
    "\n",
    "\n",
    "class LaxFriedrichs(Timestepper):\n",
    "\n",
    "    def __init__(self, u, f):\n",
    "        super().__init__(u, f)\n",
    "        N = len(u)\n",
    "        A = sparse.diags([1/2, 1/2], offsets=[-1, 1], shape=[N, N])\n",
    "        A = A.tocsr()\n",
    "        A[0, -1] = 1/2\n",
    "        A[-1, 0] = 1/2\n",
    "        self.A = A\n",
    "\n",
    "    def _step(self, dt):\n",
    "        return self.A @ self.u + dt*self.func(self.u)\n",
    "\n",
    "\n",
    "class Leapfrog(Timestepper):\n",
    "\n",
    "    def _step(self, dt):\n",
    "        if self.iter == 0:\n",
    "            self.u_old = np.copy(self.u)\n",
    "            return self.u + dt*self.func(self.u)\n",
    "        else:\n",
    "            u_temp = self.u_old + 2*dt*self.func(self.u)\n",
    "            self.u_old = np.copy(self.u)\n",
    "            return u_temp\n",
    "\n",
    "\n",
    "class LaxWendroff(Timestepper):\n",
    "\n",
    "    def __init__(self, u, func1, func2):\n",
    "        self.t = 0\n",
    "        self.iter = 0\n",
    "        self.u = u\n",
    "        self.f1 = func1\n",
    "        self.f2 = func2\n",
    "\n",
    "    def _step(self, dt):\n",
    "        return self.u + dt*self.f1(self.u) + dt**2/2*self.f2(self.u)\n",
    "\n",
    "\n",
    "class Multistage(Timestepper):\n",
    "\n",
    "    def __init__(self, u, f, stages, a, b):\n",
    "        super().__init__(u, f)   #Sets self.t = 0\n",
    "                                 #self.iter = 0\n",
    "                                 #self.u = u\n",
    "                                 #self.func = f\n",
    "                                 #self.dt = None\n",
    "        pass\n",
    "    def _step(self, dt):\n",
    "        N=len(self.u)\n",
    "        k=np.zeros((stages, N))\n",
    "        i=0\n",
    "        while i<stages:\n",
    "            #print(\"k: \", k)\n",
    "            k[i]=f(self.u + dt*a[i] @ k)\n",
    "            i+=1\n",
    "        return self.u + dt*b @ k\n",
    "\n",
    "class AdamsBashforth(Timestepper):\n",
    "\n",
    "    def __init__(self, u, f, steps, dt):\n",
    "        super().__init__(u, f)\n",
    "        pass\n",
    "\n",
    "    def _step(self, dt):\n",
    "        pass\n",
    "    \n",
    "def plot_2D(matrix, title='FD matrix'):\n",
    "    lim_margin = -0.05\n",
    "    fig = plt.figure(figsize=(3,3))\n",
    "    ax = fig.add_subplot()\n",
    "    I, J = matrix.shape\n",
    "    matrix_mag = np.log10(np.abs(matrix))\n",
    "    ax.pcolor(matrix_mag[::-1])\n",
    "    ax.set_xlim(-lim_margin, I+lim_margin)\n",
    "    ax.set_ylim(-lim_margin, J+lim_margin)\n",
    "    ax.set_xticks([])\n",
    "    ax.set_yticks([])\n",
    "    ax.set_aspect('equal', 'box')\n",
    "    plt.title(title)\n",
    "    plt.tight_layout()"
   ]
  },
  {
   "cell_type": "code",
   "execution_count": 7,
   "id": "55b7a42f-a37f-454c-a873-bc7cf0e5d022",
   "metadata": {
    "tags": []
   },
   "outputs": [
    {
     "name": "stderr",
     "output_type": "stream",
     "text": [
      "C:\\Users\\Owner\\Documents\\Northwestern Materials\\Quarter 4\\Tyler_Leibengood_ES_APPM_446-1\\finite.py:153: RuntimeWarning: divide by zero encountered in log10\n",
      "  matrix_mag = np.log10(np.abs(matrix))\n"
     ]
    },
    {
     "name": "stdout",
     "output_type": "stream",
     "text": [
      "0.15\n",
      "1.0045538804993743\n",
      "False\n"
     ]
    },
    {
     "name": "stderr",
     "output_type": "stream",
     "text": [
      "C:\\Users\\Owner\\AppData\\Local\\Temp/ipykernel_16716/2335680324.py:104: RuntimeWarning: divide by zero encountered in log10\n",
      "  matrix_mag = np.log10(np.abs(matrix))\n"
     ]
    },
    {
     "data": {
      "image/png": "[encoded data removed]",
      "text/plain": [
       "<Figure size 216x216 with 1 Axes>"
      ]
     },
     "metadata": {},
     "output_type": "display_data"
    },
    {
     "data": {
      "image/png": "[encoded data removed]",
      "text/plain": [
       "<Figure size 288x216 with 1 Axes>"
      ]
     },
     "metadata": {
      "needs_background": "light"
     },
     "output_type": "display_data"
    },
    {
     "data": {
      "image/png": "[encoded data removed]",
      "text/plain": [
       "<Figure size 216x216 with 1 Axes>"
      ]
     },
     "metadata": {},
     "output_type": "display_data"
    }
   ],
   "source": [
    "resolution_list = [10, 100, 200, 400]\n",
    "ITER=1\n",
    "error_RK_2_2 = {10: 0.15, 100:0.15, 200:0.05, 400:0.01}\n",
    "#print(error_RK_2_2)\n",
    "#@pytest.mark.parametrize('resolution', resolution_list)\n",
    "#def test_RK_2_2(resolution):\n",
    "    \n",
    "grid = finite.UniformPeriodicGrid(resolution_list[ITER], 2*np.pi)\n",
    "x = grid.values\n",
    "IC = np.exp(-(x-np.pi)**2*8)\n",
    "\n",
    "target = np.exp(-(x-np.pi-2*np.pi*0.2)**2*8)\n",
    "\n",
    "d = finite.DifferenceUniformGrid(1, 6, grid)\n",
    "f = lambda u: d @ u\n",
    "\n",
    "stages = 2\n",
    "a = np.array([[  0,   0],\n",
    "              [1/2,   0]])\n",
    "b = np.array([0, 1])\n",
    "    \n",
    "ts = Multistage(IC, f, stages, a, b)\n",
    "\n",
    "alpha = 0.5\n",
    "num_periods = 1.2\n",
    "ts.evolve(alpha*grid.dx, 2*np.pi*num_periods)\n",
    "\n",
    "error = np.max(np.abs( ts.u - target))\n",
    "error_est = error_RK_2_2[resolution_list[ITER]]\n",
    "print(error_est)\n",
    "print(error)\n",
    "print(error < error_est)\n",
    "\n",
    "fig = plt.figure(figsize=(4,3))\n",
    "p, = plt.plot(x, ts.u)\n",
    "plt.ylim([-0.1, 1.1])\n",
    "fig.canvas.draw()\n",
    "while ts.t < 2*np.pi:\n",
    "    ts.step(dt)\n",
    "    if ts.iter % output_cadence == 0:\n",
    "        p.set_ydata(ts.u)\n",
    "        fig.canvas.draw()\n",
    "plt.plot(x, IC)\n",
    "plot_2D(d.matrix.A)"
   ]
  },
  {
   "cell_type": "code",
   "execution_count": null,
   "id": "9491ad95-10ea-41b4-9668-a5c8af232c8f",
   "metadata": {},
   "outputs": [],
   "source": []
  }
 ],
 "metadata": {
  "kernelspec": {
   "display_name": "Python 3 (ipykernel)",
   "language": "python",
   "name": "python3"
  },
  "language_info": {
   "codemirror_mode": {
    "name": "ipython",
    "version": 3
   },
   "file_extension": ".py",
   "mimetype": "text/x-python",
   "name": "python",
   "nbconvert_exporter": "python",
   "pygments_lexer": "ipython3",
   "version": "3.9.7"
  }
 },
 "nbformat": 4,
 "nbformat_minor": 5
}
