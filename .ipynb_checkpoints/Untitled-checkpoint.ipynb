{
 "cells": [
  {
   "cell_type": "code",
   "execution_count": 89,
   "id": "f434389b-4136-409d-8e90-cef7f7588b2e",
   "metadata": {},
   "outputs": [],
   "source": [
    "import math\n",
    "import numpy as np\n",
    "import re\n",
    "\n",
    "# Definition of a polynomial is stored in arrays coeffs\n",
    "# Length of array denotes maximum order, an entry denotes the coefficient, the index is the order of the term.\n",
    "# -> entries may be positive or negative\n",
    "# Coefficients tested will only be integers. No irrational coeffiecients.\n",
    "class Polynomial:\n",
    "    \n",
    "    def __init__(self, coeffs):\n",
    "        self.order = len(coeffs)-1\n",
    "        self.coeffs=coeffs\n",
    "        self._reduce()\n",
    "    \n",
    "    @staticmethod\n",
    "    def from_string(string):\n",
    "\n",
    "        #Clean string\n",
    "        string = string.replace(\" \",\"\")     #Remove spaces\n",
    "        i=0\n",
    "        while i<len(string)-1:\n",
    "            if string[i:i+2]==\"+-\":         #replaces all instances of \"+-\" and \"-+\" with \"-\"\n",
    "                string=string[:i]+\"-\"+string[i+2:]\n",
    "                i=0\n",
    "            elif string[i:i+2]==\"-+\":\n",
    "                string=string[:i]+\"-\"+string[i+2:]\n",
    "                i=0\n",
    "            else:\n",
    "                i+=1    \n",
    "        i=0\n",
    "        while i<len(string)-1:\n",
    "            if string[i:i+2]==\"--\":         #remove repeated subtraction\n",
    "                string=string[:i]+\"+\"+string[i+2:]\n",
    "                i=0\n",
    "            else:\n",
    "                i+=1\n",
    "        string = string.replace(\"-\",\"+-\")   #place addition before each subtraction\n",
    "        i=0\n",
    "        while i<len(string)-1:\n",
    "            if string[i:i+2]==\"++\":         #remove repeated addition\n",
    "                string=string[:i]+\"+\"+string[i+2:]\n",
    "                i=0\n",
    "            else:\n",
    "                i+=1\n",
    "        if string[0]==\"+\":                  #remove addition symbol if it is the first character\n",
    "            string=string[1:]\n",
    "        if string[-1]==\"+\":                 #remove addition symbol if it is the first character\n",
    "            string=string[:-1]\n",
    "        string = string.replace(\"+0+\",\"+\")  #remove addition of 0\n",
    "        if string[:2]==\"0+\":\n",
    "            string=string[2:]\n",
    "        if string[-2:]==\"+0\":\n",
    "            string=string[:-2]\n",
    "        string = string.replace(\"*x^\",\",\")  #add comma to seperate coeffs and powers \"1,2+3,4 etc\"\n",
    "        string = string.replace(\"*x\",\",1\")  #for the case where no explicit exponent\n",
    "        string = string.replace(\"x^\",\"1,\")  #for the case of no coefficient\n",
    "        string = string.replace(\"x\",\"1,1\")  #for the case where no exponent and no coefficient\n",
    "        terms = string.split(\"+\")           #string array of terms\n",
    "        \n",
    "        #Deal with order 0 terms\n",
    "        i=0\n",
    "        while i<len(terms):\n",
    "            if \",\" in terms[i]:\n",
    "                i+=1\n",
    "            else:\n",
    "                terms[i]=terms[i]+\",0\"\n",
    "                i+=1\n",
    "        \n",
    "        #Define arrays for splitting and organizing terms\n",
    "        Nterms = len(terms)\n",
    "        powers = np.zeros(Nterms, dtype=int)#unordered powers\n",
    "        coughs = np.zeros(Nterms, dtype=int)#unordered coefficients\n",
    "        \n",
    "        i=0\n",
    "        while i<Nterms:\n",
    "            if terms[i][-1]==\",\":           #for the case the term was a constant\n",
    "                terms[i]=terms[i]+\"0\"\n",
    "            coughs[i] = terms[i].split(\",\")[0]\n",
    "            powers[i] = terms[i].split(\",\")[1] \n",
    "            i+=1\n",
    "        #Reorganize data into the final polynomial datatype\n",
    "        order = max(powers)\n",
    "        coeffs = np.zeros(order+1, dtype=int)\n",
    "        i=0\n",
    "        while i<len(powers):\n",
    "            coeffs[powers[i]] += coughs[i]\n",
    "            i+=1\n",
    "        return Polynomial(coeffs)\n",
    "    \n",
    "    def __repr__(self):\n",
    "        i=0\n",
    "        string=\"\"\n",
    "        while i<self.order+1:\n",
    "            if self.coeffs[i]!=0 and string==\"\":\n",
    "                if i==0:\n",
    "                    string = str(self.coeffs[0])\n",
    "                elif i==1:\n",
    "                    string = str(self.coeffs[1])+\"x\"\n",
    "                else:\n",
    "                    string = str(self.coeffs[i])+\"x^\"+str(i)\n",
    "            elif self.coeffs[i]!=0:\n",
    "                if i==1:\n",
    "                    string = string+\"+\"+str(self.coeffs[1])+\"x\"\n",
    "                else:\n",
    "                    string = string+\"+\"+str(self.coeffs[i])+\"x^\"+str(i)\n",
    "            i+=1\n",
    "        string = string.replace(\"+-\",\" - \")\n",
    "        string = string.replace(\"+\",\" + \")\n",
    "        return string\n",
    "    \n",
    "    def __add__(self, other):\n",
    "        Cself=self.coeffs\n",
    "        Cother=other.coeffs\n",
    "        maxOrder = max(len(Cself),len(Cother))\n",
    "        if len(Cother)!=maxOrder:\n",
    "            Cother=np.concatenate((Cother,np.zeros(maxOrder-len(Cother),dtype=int)), axis=None)\n",
    "        elif len(self.coeffs)!=maxOrder:\n",
    "            Cself=np.concatenate((Cself,np.zeros(maxOrder-len(Cself),dtype=int)), axis=None)\n",
    "\n",
    "        coeffs=np.add(Cself,Cother)\n",
    "        return Polynomial(coeffs)\n",
    "    \n",
    "    def _reduce(self):\n",
    "        coeffs=self.coeffs\n",
    "        if coeffs[-1]==0:\n",
    "            i=len(coeffs)-1\n",
    "            flag=0\n",
    "            while flag==0:\n",
    "                if coeffs[i]!=0:\n",
    "                    flag=1\n",
    "                else:\n",
    "                    i-=1\n",
    "            self.coeffs=coeffs[:i+1]\n",
    "            \n",
    "    def __mul__(self, other):\n",
    "        return Polynomial(np.flip(np.polymul(np.flip(self.coeffs),np.flip(other.coeffs))))\n",
    "    \n",
    "    def __sub__(self, other):\n",
    "        Cself=self.coeffs\n",
    "        Cother=other.coeffs\n",
    "        maxOrder = max(len(Cself),len(Cother))\n",
    "        if len(Cother)!=maxOrder:\n",
    "            Cother=np.concatenate((Cother,np.zeros(maxOrder-len(Cother),dtype=int)), axis=None)\n",
    "        elif len(self.coeffs)!=maxOrder:\n",
    "            Cself=np.concatenate((Cself,np.zeros(maxOrder-len(Cself),dtype=int)), axis=None)\n",
    "\n",
    "        coeffs=np.subtract(Cself,Cother)\n",
    "        return Polynomial(coeffs)\n",
    "    \n",
    "    def __eq__(self, other):\n",
    "        if len(self.coeffs) == len(other.coeffs):\n",
    "            if self.coeffs == other.coeffs:\n",
    "                return True\n",
    "        return False"
   ]
  },
  {
   "cell_type": "code",
   "execution_count": 95,
   "id": "2cf1b420-3752-4944-9da5-24aa09d86816",
   "metadata": {},
   "outputs": [
    {
     "name": "stdout",
     "output_type": "stream",
     "text": [
      "[  0  11   0 -71]\n",
      "[ 3 10]\n"
     ]
    }
   ],
   "source": [
    "a=Polynomial.from_string(\"2*x-7x^3+9*x\")\n",
    "b=Polynomial.from_string(\"3+10*x\")\n",
    "print(a.coeffs)\n",
    "print(b.coeffs)\n"
   ]
  },
  {
   "cell_type": "code",
   "execution_count": 96,
   "id": "055c378f-adbf-4189-8009-01734937eb52",
   "metadata": {},
   "outputs": [
    {
     "name": "stdout",
     "output_type": "stream",
     "text": [
      "33x + 110x^2 - 213x^3 - 710x^4\n"
     ]
    }
   ],
   "source": [
    "c=a*b\n",
    "print(c)"
   ]
  },
  {
   "cell_type": "code",
   "execution_count": 50,
   "id": "0ab25d83-0612-4053-997b-f42bf5679ab5",
   "metadata": {},
   "outputs": [
    {
     "name": "stdout",
     "output_type": "stream",
     "text": [
      "[1 8 7 3 8 7 6]\n"
     ]
    }
   ],
   "source": [
    "coeffs=np.array([1,8,7,3,8,7,6,0,0,0,0,0,0,0])\n",
    "if coeffs[-1]==0:\n",
    "    i=len(coeffs)-1\n",
    "    flag=0\n",
    "    while flag==0:\n",
    "        if coeffs[i]!=0:\n",
    "            flag=1\n",
    "        else:\n",
    "            i-=1\n",
    "    coeffs=coeffs[:i+1]\n",
    "print(coeffs)"
   ]
  },
  {
   "cell_type": "code",
   "execution_count": 66,
   "id": "fa9b0810-3e73-435c-a1d2-5d9bd906ba11",
   "metadata": {},
   "outputs": [
    {
     "name": "stdout",
     "output_type": "stream",
     "text": [
      "+1+2+-3+-4+5+-9+\n"
     ]
    }
   ],
   "source": []
  },
  {
   "cell_type": "code",
   "execution_count": 68,
   "id": "7970d176-57e9-438c-b148-48f750f04687",
   "metadata": {},
   "outputs": [
    {
     "name": "stdout",
     "output_type": "stream",
     "text": [
      "1+2+-3+-4+5+-9\n"
     ]
    }
   ],
   "source": []
  },
  {
   "cell_type": "code",
   "execution_count": null,
   "id": "29b53a0f-4547-4633-b819-cb1e83fbaac9",
   "metadata": {},
   "outputs": [],
   "source": []
  }
 ],
 "metadata": {
  "kernelspec": {
   "display_name": "Python 3 (ipykernel)",
   "language": "python",
   "name": "python3"
  },
  "language_info": {
   "codemirror_mode": {
    "name": "ipython",
    "version": 3
   },
   "file_extension": ".py",
   "mimetype": "text/x-python",
   "name": "python",
   "nbconvert_exporter": "python",
   "pygments_lexer": "ipython3",
   "version": "3.9.7"
  }
 },
 "nbformat": 4,
 "nbformat_minor": 5
}
