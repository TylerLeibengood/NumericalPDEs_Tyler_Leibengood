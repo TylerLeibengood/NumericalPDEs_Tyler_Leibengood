{
 "cells": [
  {
   "cell_type": "code",
   "execution_count": 1,
   "id": "7a5e2213-7de9-4cf0-9753-758dde042891",
   "metadata": {},
   "outputs": [],
   "source": [
    "import numpy as np\n",
    "import math\n",
    "from scipy import sparse\n",
    "import matplotlib.pyplot as plt\n",
    "\n",
    "class UniformPeriodicGrid:\n",
    "\n",
    "    def __init__(self, N, length):\n",
    "        self.values = np.linspace(0, length, N, endpoint=False)\n",
    "        self.dx = self.values[1] - self.values[0]\n",
    "        self.length = length\n",
    "        self.N = N\n",
    "\n",
    "\n",
    "class NonUniformPeriodicGrid:\n",
    "\n",
    "    def __init__(self, values, length):\n",
    "        self.values = values\n",
    "        self.length = length\n",
    "        self.N = len(values)\n",
    "\n",
    "\n",
    "class DifferenceUniformGrid:\n",
    "\n",
    "    def __init__(self, derivative_order, convergence_order, grid, stencil_type='centered'):\n",
    "\n",
    "        self.derivative_order = derivative_order\n",
    "        self.convergence_order = convergence_order\n",
    "        self.stencil_type = stencil_type\n",
    "        #print(\"Check1\")\n",
    "        #Goal: Return D\n",
    "        #initial parameters\n",
    "        N=grid.N\n",
    "        h=grid.dx\n",
    "        ddx=derivative_order\n",
    "        convE=convergence_order\n",
    "\n",
    "        #print(\"Check2\")\n",
    "        #Create R matrix\n",
    "        convE=2*math.ceil(convE/2)\n",
    "        d=2*math.floor((ddx+convE-1)/2)+1\n",
    "        mid=math.floor(d/2)\n",
    "\n",
    "        R=np.zeros((d,d))\n",
    "        r0=np.ones(d)\n",
    "        r=h*np.arange(start=-(d-1)/2, stop=(d+1)/2, step=1)\n",
    "\n",
    "        R[0]=r0\n",
    "        i=1\n",
    "        while i<d:\n",
    "            R[i]=r**i\n",
    "            i+=1\n",
    "            \n",
    "        #print(\"Check3\")\n",
    "        # Create k vector\n",
    "        k=np.zeros(d)\n",
    "        k[ddx]=1\n",
    "\n",
    "        #Solve for coefficients, a\n",
    "        a=math.factorial(ddx)*np.linalg.inv(R)@k\n",
    "        \n",
    "        #print(\"Check4\")\n",
    "        #Arrange coefficients in a sparse, derivative matrix: D\n",
    "        lowerTri=np.arange(start=-N+1, stop=-N+mid+1, step=1)\n",
    "        upperTri=np.arange(start=N-mid, stop=N, step=1)\n",
    "        mainDiag=np.arange(start=-mid, stop=mid+1, step=1)\n",
    "\n",
    "        #print(\"Main Diag: \", mainDiag)\n",
    "        #print(\"a: \", a)\n",
    "        Dmd = sparse.diags(a, mainDiag, shape=(N, N))\n",
    "        DuT = sparse.diags(a[:mid], upperTri, shape=(N, N))\n",
    "        DlT = sparse.diags(a[mid+1:], lowerTri, shape=(N, N))\n",
    "        D = Dmd + DuT + DlT\n",
    "        #plot_2D(D.A)\n",
    "        self.matrix = D\n",
    "        pass\n",
    "\n",
    "    def __matmul__(self, other):\n",
    "        return self.matrix @ other\n",
    "\n",
    "\n",
    "class DifferenceNonUniformGrid:\n",
    "\n",
    "    def __init__(self, derivative_order, convergence_order, Grid, stencil_type='centered'):\n",
    "\n",
    "        self.derivative_order = derivative_order\n",
    "        self.convergence_order = convergence_order\n",
    "        self.stencil_type = stencil_type\n",
    "        self.grid = Grid\n",
    "        \n",
    "        grid=Grid.values\n",
    "        length=Grid.length\n",
    "        N=Grid.N\n",
    "        ddx=derivative_order\n",
    "        convE=convergence_order\n",
    "        \n",
    "        #Create R matrix\n",
    "        convE=2*math.ceil(convE/2)\n",
    "        d=2*math.floor((ddx+convE-1)/2)+1\n",
    "        mid=math.floor(d/2)\n",
    "\n",
    "        # Create k vector\n",
    "        k=np.zeros(d)\n",
    "        k[ddx]=math.factorial(ddx)\n",
    "\n",
    "        #Begin iteration to construct D by individual stencil\n",
    "        D = sparse.csr_matrix(np.zeros((N,N)))\n",
    "        i=0\n",
    "        while i<N: \n",
    "            R=np.zeros((d,d))\n",
    "            r0=np.ones(d)\n",
    "            r=np.roll(grid, mid-i)[0:d]-grid[i]*np.ones(d)\n",
    "            if i<mid:\n",
    "                j=0\n",
    "                while j<mid-i:\n",
    "                    r[j]=r[j]-length\n",
    "                    j+=1\n",
    "            elif i>N-mid-1:\n",
    "                j=-1 \n",
    "                while j>(N-i)-mid-2:\n",
    "                    r[j]=r[j]+length\n",
    "                    j-=1        \n",
    "\n",
    "            R[0]=r0\n",
    "            j=1\n",
    "            while j<d:\n",
    "                R[j]=r**j\n",
    "                j+=1\n",
    "        \n",
    "            Rinv=np.linalg.inv(R)\n",
    "\n",
    "            #Solve for coefficients, a\n",
    "            a=Rinv@k\n",
    "\n",
    "            #Construct D row i, col j\n",
    "            a_0s=np.concatenate((a,np.zeros(N-d)))\n",
    "            a_0s_rolled=np.roll(a_0s, i-mid)\n",
    "            D[i]=a_0s_rolled\n",
    "\n",
    "            i+=1\n",
    "        self.matrix = D\n",
    "        pass\n",
    "\n",
    "    def __matmul__(self, other):\n",
    "        return self.matrix @ other\n",
    "    \n",
    "def plot_2D(matrix, title='FD matrix'):\n",
    "    lim_margin = -0.05\n",
    "    fig = plt.figure(figsize=(3,3))\n",
    "    ax = fig.add_subplot()\n",
    "    I, J = matrix.shape\n",
    "    matrix_mag = np.log10(np.abs(matrix))\n",
    "    ax.pcolor(matrix_mag[::-1])\n",
    "    ax.set_xlim(-lim_margin, I+lim_margin)\n",
    "    ax.set_ylim(-lim_margin, J+lim_margin)\n",
    "    ax.set_xticks([])\n",
    "    ax.set_yticks([])\n",
    "    ax.set_aspect('equal', 'box')\n",
    "    plt.title(title)\n",
    "    plt.tight_layout()"
   ]
  },
  {
   "cell_type": "code",
   "execution_count": 14,
   "id": "399b75f3-2594-44ea-9e90-f373dc4ce9a8",
   "metadata": {},
   "outputs": [
    {
     "name": "stdout",
     "output_type": "stream",
     "text": [
      "<class 'numpy.ndarray'>\n"
     ]
    },
    {
     "name": "stderr",
     "output_type": "stream",
     "text": [
      "C:\\Users\\Owner\\anaconda3\\lib\\site-packages\\scipy\\sparse\\_index.py:125: SparseEfficiencyWarning: Changing the sparsity structure of a csr_matrix is expensive. lil_matrix is more efficient.\n",
      "  self._set_arrayXarray(i, j, x)\n",
      "C:\\Users\\Owner\\AppData\\Local\\Temp/ipykernel_19076/4188042229.py:152: RuntimeWarning: divide by zero encountered in log10\n",
      "  matrix_mag = np.log10(np.abs(matrix))\n"
     ]
    },
    {
     "data": {
      "image/png": "[encoded data removed]",
      "text/plain": [
       "<Figure size 216x216 with 1 Axes>"
      ]
     },
     "metadata": {},
     "output_type": "display_data"
    }
   ],
   "source": [
    "InputValues=np.array([0, 0.005, 0.02, 0.034,0.04,0.058,0.076,0.083,0.09, 0.12, 0.13, 0.1415, 0.15, 0.159, 0.177, 0.184, 0.19, 0.20, 0.23, 0.239, 0.247, 0.25, 0.28, 0.29])\n",
    "A=NonUniformPeriodicGrid(InputValues, 0.3)\n",
    "print(type(A.values))\n",
    "d=DifferenceNonUniformGrid(1, 22, A, stencil_type='centered')\n",
    "d.matrix\n",
    "plot_2D(d.matrix.A)"
   ]
  },
  {
   "cell_type": "code",
   "execution_count": 16,
   "id": "0893899e-3acc-4ec8-8f65-f99eb0ee1e00",
   "metadata": {},
   "outputs": [
    {
     "data": {
      "image/png": "[encoded data removed]",
      "text/plain": [
       "<Figure size 432x288 with 1 Axes>"
      ]
     },
     "metadata": {
      "needs_background": "light"
     },
     "output_type": "display_data"
    }
   ],
   "source": [
    "x=d.grid.values\n",
    "length=d.grid.length\n",
    "tight=np.linspace(0,(100-1)/100*length,100)\n",
    "f = 1/(2+np.sin(2*np.pi*x/length)**2)\n",
    "f_tight = 1/(2+np.sin(2*np.pi*tight/length)**2)\n",
    "\n",
    "df = d.matrix @ f\n",
    "df0 = -(2*np.pi/length)*((2*np.cos(2*np.pi*x/length)*np.sin(2*np.pi*x/length))/(2 + np.sin(2*np.pi*x/length)**2)**2)\n",
    "df0_tight = -(2*np.pi/length)*((2*np.cos(2*np.pi*tight/length)*np.sin(2*np.pi*tight/length))/(2 + np.sin(2*np.pi*tight/length)**2)**2)\n",
    "\n",
    "fig, ax = plt.subplots()\n",
    "\n",
    "\n",
    "#ax.plot(tight,f_tight)\n",
    "#ax.plot(x,f)\n",
    "\n",
    "#ax.plot(x,df0)\n",
    "#ax.plot(tight,df0_tight)\n",
    "ax.plot(x,df-df0)\n",
    "plt.show()"
   ]
  },
  {
   "cell_type": "code",
   "execution_count": 136,
   "id": "921d94b6-1fd9-411f-9db2-6ebf654a007d",
   "metadata": {
    "collapsed": true,
    "jupyter": {
     "outputs_hidden": true,
     "source_hidden": true
    },
    "tags": []
   },
   "outputs": [
    {
     "name": "stdout",
     "output_type": "stream",
     "text": [
      "[0.    0.005 0.02  0.034 0.04  0.058 0.076 0.083 0.09  0.12  0.13  0.15\n",
      " 0.19  0.2   0.23  0.25 ]\n",
      "d= 5\n",
      "mid= 2\n",
      "k= [0. 0. 0. 6. 0.]\n",
      "a_ 0 = [   15873.01587302   -70129.87012987  1628571.42857145 -1939393.93939396\n",
      "   365079.36507937]\n",
      "a_ 1 = [ -14471.24304267 -388235.29411765  802507.83699059 -632653.06122449\n",
      "  232851.76139421]\n",
      "a_ 2 = [ -838235.29411765  1103448.27586207    71428.57142857 -1086641.55317299\n",
      "   750000.        ]\n",
      "a_ 3 = [ -118970.16451343    37593.98496241  1334154.35139573 -1507936.50793651\n",
      "   255158.3360918 ]\n",
      "a_ 4 = [ -483351.23523093  2409297.05215419 -2160493.82716049   203053.93112411\n",
      "    31494.07911313]\n",
      "a_ 5 = [-506154.84288954  681883.43382142  -30864.19753086 -535399.34492316\n",
      "  390534.95152214]\n",
      "a_ 6 = [  -12919.89664083  -347222.22222222  3117913.83219954 -4556241.1010916\n",
      "  1798469.3877551 ]\n",
      "a_ 7 = [ -248655.91397849  1468769.32591218 -1588527.30281301   318877.55102041\n",
      "    49536.33985892]\n",
      "a_ 8 = [-1623376.62337662  3943152.87932309 -2500000.           233415.23341523\n",
      "   -53191.4893617 ]\n",
      "a_ 9 = [ -73566.285062     35714.28571429  486486.48648649 -590425.53191489\n",
      "  141791.04477612]\n",
      "a_ 10 = [ -58333.33333333  380952.38095238 -375000.           41666.66666667\n",
      "   10714.28571429]\n",
      "a_ 11 = [-2.50000000e+05  4.28571429e+05 -2.00000000e+05  1.72266332e-10\n",
      "  2.14285714e+04]\n",
      "a_ 12 = [  -7142.85714286  -18750.          312500.         -342857.14285714\n",
      "   56250.        ]\n",
      "a_ 13 = [ -26250.  187500. -160000.  -31250.   30000.]\n",
      "inside\n",
      "a_ 14 = [-1.36363636e+05  2.00000000e+05 -7.14285714e+04 -5.18970566e-11\n",
      "  7.79220779e+03]\n",
      "inside\n",
      "a_ 15 = [-32380.95238095 104761.9047619  -76363.63636364 -51428.57142857\n",
      "  55411.25541126]\n"
     ]
    },
    {
     "name": "stderr",
     "output_type": "stream",
     "text": [
      "C:\\Users\\Owner\\anaconda3\\lib\\site-packages\\scipy\\sparse\\_index.py:125: SparseEfficiencyWarning: Changing the sparsity structure of a csr_matrix is expensive. lil_matrix is more efficient.\n",
      "  self._set_arrayXarray(i, j, x)\n",
      "C:\\Users\\Owner\\AppData\\Local\\Temp/ipykernel_8740/777014033.py:99: RuntimeWarning: divide by zero encountered in log10\n",
      "  matrix_mag = np.log10(np.abs(matrix))\n"
     ]
    },
    {
     "data": {
      "image/png": "[encoded data removed]",
      "text/plain": [
       "<Figure size 216x216 with 1 Axes>"
      ]
     },
     "metadata": {},
     "output_type": "display_data"
    }
   ],
   "source": [
    "#Modify Class Cell\n",
    "\n",
    "#Differences                0.4, 0.5, 0.3, 0.1, 0.2, 0.4, 0.1, 0.3, 0.2, 0.5\n",
    "NonUniform_Values=np.array([0, 0.005, 0.02, 0.034,0.04,0.058,0.076,0.083,0.09, 0.12, 0.13, 0.15, 0.19, 0.20, 0.23, 0.25]) #ends at 0.3\n",
    "#NonUniform_Values=np.linspace(0,9/10,10)[:]\n",
    "NonUniform_Length=0.3\n",
    "NU_grid=NonUniformPeriodicGrid(NonUniform_Values,NonUniform_Length)\n",
    "\n",
    "#     DifferenceNonUniformGrid(derivative_order, convergence_order, grid, stencil_type='centered')\n",
    "#NU_d= DifferenceNonUniformGrid(1,                2,               NU_grid, stencil_type='centered')\n",
    "ddx=3\n",
    "convE=2\n",
    "grid=NU_grid.values\n",
    "length=NU_grid.length\n",
    "\n",
    "#Goal: Return D\n",
    "#initial parameters\n",
    "N=NU_grid.N\n",
    "#ddx=derivative_order\n",
    "#convE=convergence_order\n",
    "\n",
    "#Create R matrix\n",
    "convE=2*math.ceil(convE/2)\n",
    "d=2*math.floor((ddx+convE-1)/2)+1\n",
    "mid=math.floor(d/2)\n",
    "\n",
    "# Create k vector\n",
    "k=np.zeros(d)\n",
    "k[ddx]=math.factorial(ddx)\n",
    "\n",
    "#Begin iteration to construct D by individual stencil\n",
    "D = sparse.csr_matrix(np.zeros((N,N)))\n",
    "i=0\n",
    "while i<N: \n",
    "    R=np.zeros((d,d))\n",
    "    r0=np.ones(d)\n",
    "    r=np.roll(grid, mid-i)[0:d]-grid[i]*np.ones(d)\n",
    "    if i<mid:\n",
    "        j=0\n",
    "        while j<mid-i:\n",
    "            r[j]=r[j]-length\n",
    "            j+=1\n",
    "    elif i>N-mid-1:\n",
    "        j=-1 \n",
    "        while j>(N-i)-mid-2:\n",
    "            r[j]=r[j]+length\n",
    "            j-=1        \n",
    "\n",
    "    R[0]=r0\n",
    "    j=1\n",
    "    while j<d:\n",
    "        R[j]=r**j\n",
    "        j+=1\n",
    "        \n",
    "    Rinv=np.linalg.inv(R)\n",
    "    #print(\"R^(-1)_\",i,\"=\",R)\n",
    "\n",
    "    #Solve for coefficients, a\n",
    "    a=Rinv@k\n",
    "\n",
    "    #Construct D row i, col j\n",
    "    a_0s=np.concatenate((a,np.zeros(N-d)))\n",
    "    a_0s_rolled=np.roll(a_0s, i-mid)\n",
    "    D[i]=a_0s_rolled\n",
    "\n",
    "    i+=1"
   ]
  },
  {
   "cell_type": "code",
   "execution_count": 49,
   "id": "5196e6f6-0f71-4afb-a1c9-af9f83178598",
   "metadata": {},
   "outputs": [
    {
     "name": "stdout",
     "output_type": "stream",
     "text": [
      "True\n"
     ]
    },
    {
     "name": "stderr",
     "output_type": "stream",
     "text": [
      "C:\\Users\\Owner\\anaconda3\\lib\\site-packages\\scipy\\sparse\\_index.py:125: SparseEfficiencyWarning: Changing the sparsity structure of a csr_matrix is expensive. lil_matrix is more efficient.\n",
      "  self._set_arrayXarray(i, j, x)\n"
     ]
    },
    {
     "data": {
      "image/png": "[encoded data removed]",
      "text/plain": [
       "<Figure size 432x288 with 1 Axes>"
      ]
     },
     "metadata": {
      "needs_background": "light"
     },
     "output_type": "display_data"
    }
   ],
   "source": [
    "#Testing Cell\n",
    "\n",
    "import numpy as np\n",
    "import math\n",
    "\n",
    "TestID=3\n",
    "InputValues=np.array([0, 0.005, 0.02, 0.034,0.04,0.058,0.076,0.083,0.09, 0.12, 0.13, 0.1415, 0.15, 0.159, 0.177, 0.184, 0.19, 0.20, 0.23, 0.239, 0.247, 0.25, 0.28, 0.29])\n",
    "order_range = [2, 4, 6, 8]\n",
    "order_index = np.arange(4)\n",
    "error_bound_3 = [0.5, 0.05, 0.013, 0.006]\n",
    "\n",
    "order = order_range[order_index[TestID]]\n",
    "grid = NonUniformPeriodicGrid(InputValues, 0.3)\n",
    "x = grid.values\n",
    "#print(\"order: \", order)\n",
    "#print(\"grid.values: \", grid.values)\n",
    "#print(\"grid.N: \", grid.N)\n",
    "#print(\"grid.dx: \", grid.dx) \n",
    "d = DifferenceNonUniformGrid(1, order, grid)\n",
    "length=d.grid.length\n",
    "f = 1/(2+np.sin(2*np.pi*x/length)**2)\n",
    "#print(\"derivative_order: \", d.derivative_order)\n",
    "#print(\"convergence_order: \", d.convergence_order)\n",
    "#print(\"stencil_type: \", d.stencil_type) \n",
    "#plot_2D(d.matrix.A)\n",
    "df = d.matrix @ f\n",
    "df0 = -(2*np.pi/length)*((2*np.cos(2*np.pi*x/length)*np.sin(2*np.pi*x/length))/(2 + np.sin(2*np.pi*x/length)**2)**2)\n",
    "\n",
    "error = np.max(np.abs(df - df0))\n",
    "error_est = error_bound_3[order_index[TestID]]\n",
    "print(error<error_est)\n",
    "fig, ax = plt.subplots()\n",
    "ax.plot(x, df-df0)\n",
    "plt.show()\n"
   ]
  },
  {
   "cell_type": "code",
   "execution_count": 37,
   "id": "69f5fbaa-8520-49e0-9548-256e7112e3a8",
   "metadata": {},
   "outputs": [
    {
     "data": {
      "image/png": "[encoded data removed]",
      "text/plain": [
       "<Figure size 432x288 with 1 Axes>"
      ]
     },
     "metadata": {
      "needs_background": "light"
     },
     "output_type": "display_data"
    }
   ],
   "source": []
  },
  {
   "cell_type": "code",
   "execution_count": null,
   "id": "9d79e7d3-ac59-40c9-98de-1a043f5e8ef9",
   "metadata": {},
   "outputs": [],
   "source": []
  }
 ],
 "metadata": {
  "kernelspec": {
   "display_name": "Python 3 (ipykernel)",
   "language": "python",
   "name": "python3"
  },
  "language_info": {
   "codemirror_mode": {
    "name": "ipython",
    "version": 3
   },
   "file_extension": ".py",
   "mimetype": "text/x-python",
   "name": "python",
   "nbconvert_exporter": "python",
   "pygments_lexer": "ipython3",
   "version": "3.9.7"
  }
 },
 "nbformat": 4,
 "nbformat_minor": 5
}
